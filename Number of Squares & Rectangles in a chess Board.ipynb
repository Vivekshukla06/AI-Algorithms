{
 "cells": [
  {
   "cell_type": "markdown",
   "id": "87f3151a",
   "metadata": {},
   "source": [
    "# WRITE A PROGRAM TO FIND NUMBER OF SQUARES & RECTANGLES FORMED IN A CHESS BOARD"
   ]
  },
  {
   "cell_type": "markdown",
   "id": "b1c30eb5",
   "metadata": {},
   "source": [
    "In a 8x8 chessboard, the total number of squares is ∑82.\n",
    "Total number of squares in a n*n chessboard will be = ∑n2; n varying from 1 to n\n",
    "\n",
    "Total number of rectangles in a n*n chessboard will be\n",
    "= n+1C2*n+1C2"
   ]
  },
  {
   "cell_type": "markdown",
   "id": "430c4756",
   "metadata": {},
   "source": [
    "#### finding Number of Squares"
   ]
  },
  {
   "cell_type": "code",
   "execution_count": 1,
   "id": "683da0fb",
   "metadata": {},
   "outputs": [
    {
     "name": "stdout",
     "output_type": "stream",
     "text": [
      "8\n",
      "No. of Squares in a Chess Board having N*N size :  204\n"
     ]
    }
   ],
   "source": [
    "x = int(input())\n",
    "print(\"No. of Squares in a Chess Board having N*N size : \",\n",
    "      int(((x*(x+1)*(2*x+1))/6)))\n"
   ]
  },
  {
   "cell_type": "markdown",
   "id": "de949391",
   "metadata": {},
   "source": [
    "#### finding number of rectangle"
   ]
  },
  {
   "cell_type": "code",
   "execution_count": 2,
   "id": "77bff979",
   "metadata": {},
   "outputs": [
    {
     "name": "stdout",
     "output_type": "stream",
     "text": [
      "No. of Rectangles in a Chess Board having N*N size :  1296\n"
     ]
    }
   ],
   "source": [
    "sum = x * (x + 1) / 2\n",
    "print(\"No. of Rectangles in a Chess Board having N*N size : \",\n",
    "      int(sum*sum ))\n"
   ]
  }
 ],
 "metadata": {
  "kernelspec": {
   "display_name": "Python 3 (ipykernel)",
   "language": "python",
   "name": "python3"
  },
  "language_info": {
   "codemirror_mode": {
    "name": "ipython",
    "version": 3
   },
   "file_extension": ".py",
   "mimetype": "text/x-python",
   "name": "python",
   "nbconvert_exporter": "python",
   "pygments_lexer": "ipython3",
   "version": "3.9.7"
  }
 },
 "nbformat": 4,
 "nbformat_minor": 5
}
