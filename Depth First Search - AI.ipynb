{
 "cells": [
  {
   "cell_type": "markdown",
   "id": "e7a9094d",
   "metadata": {},
   "source": [
    "# WRITE A PROGRAM TP PERFORM DEPTH FIRST SEARCH ( DFS )"
   ]
  },
  {
   "cell_type": "markdown",
   "id": "52e070a8",
   "metadata": {},
   "source": [
    "#### Depth First Search ( DFS )\n",
    "It is a recursive algorithm to search all the vertices of a tree data structure or a graph. The depth-first search (DFS) algorithm starts with the initial node of graph G and goes deeper until we find the goal node or the node with no children.\n",
    "\n",
    "Because of the recursive nature, stack data structure can be used to implement the DFS algorithm. The process of implementing the DFS is similar to the BFS algorithm.\n",
    "\n",
    "The step by step process to implement the DFS traversal is given as follows -\n",
    "\n",
    "1. First, create a stack with the total number of vertices in the graph.\n",
    "2. Now, choose any vertex as the starting point of traversal, and push that vertex into the stack.\n",
    "3. After that, push a non-visited vertex (adjacent to the vertex on the top of the stack) to the top of the stack.\n",
    "4. Now, repeat steps 3 and 4 until no vertices are left to visit from the vertex on the stack's top.\n",
    "5. If no vertex is left, go back and pop a vertex from the stack.\n",
    "6. Repeat steps 2, 3, and 4 until the stack is empty."
   ]
  },
  {
   "cell_type": "code",
   "execution_count": 1,
   "id": "66348ddc",
   "metadata": {},
   "outputs": [
    {
     "name": "stdout",
     "output_type": "stream",
     "text": [
      "A\n",
      "B\n",
      "D\n",
      "E\n",
      "C\n"
     ]
    }
   ],
   "source": [
    "graph = {\n",
    "    'A' : ['B','C'],\n",
    "    'B' : ['D', 'E'],\n",
    "    'C' : [],\n",
    "    'D' : [],\n",
    "    'E' : []\n",
    "}\n",
    "\n",
    "# visited is a set that is used to keep track of visited nodes.\n",
    "visited = set()\n",
    "def dfs(visited, graph, node):\n",
    "    if node not in visited:\n",
    "        print (node)\n",
    "        visited.add(node)\n",
    "        for neighbor in graph[node]:\n",
    "            dfs(visited, graph, neighbor)\n",
    "dfs(visited, graph, 'A')"
   ]
  },
  {
   "cell_type": "code",
   "execution_count": null,
   "id": "12f9302d",
   "metadata": {},
   "outputs": [],
   "source": []
  }
 ],
 "metadata": {
  "kernelspec": {
   "display_name": "Python 3 (ipykernel)",
   "language": "python",
   "name": "python3"
  },
  "language_info": {
   "codemirror_mode": {
    "name": "ipython",
    "version": 3
   },
   "file_extension": ".py",
   "mimetype": "text/x-python",
   "name": "python",
   "nbconvert_exporter": "python",
   "pygments_lexer": "ipython3",
   "version": "3.9.7"
  }
 },
 "nbformat": 4,
 "nbformat_minor": 5
}
